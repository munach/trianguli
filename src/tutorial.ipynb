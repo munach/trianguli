{
 "cells": [
  {
   "cell_type": "markdown",
   "id": "1b4e5887",
   "metadata": {},
   "source": [
    "# Mein Beispiel\n",
    "soll dem Florin und mir zeigen, wie man den average aus einem einfachen dreieck (mit Mask) holt\n",
    "## Bild herstellen"
   ]
  },
  {
   "cell_type": "code",
   "execution_count": 1,
   "id": "6dbf6209",
   "metadata": {},
   "outputs": [
    {
     "data": {
      "text/plain": [
       "array([[[0, 0, 0],\n",
       "        [0, 0, 0],\n",
       "        [0, 0, 0],\n",
       "        [0, 0, 0],\n",
       "        [0, 0, 0],\n",
       "        [0, 0, 0],\n",
       "        [0, 0, 0],\n",
       "        [0, 0, 0],\n",
       "        [0, 0, 0]]], dtype=uint8)"
      ]
     },
     "execution_count": 1,
     "metadata": {},
     "output_type": "execute_result"
    }
   ],
   "source": [
    "import numpy as np\n",
    "import cv2 as cv\n",
    "\n",
    "img = np.zeros((1,9,3), dtype = np.uint8)\n",
    "img"
   ]
  },
  {
   "cell_type": "markdown",
   "id": "d6bf2e20",
   "metadata": {},
   "source": [
    "jetzt immer auf den 3 Kanälen den 0.ten (Blau) auf 1 setzen"
   ]
  },
  {
   "cell_type": "code",
   "execution_count": 2,
   "id": "d2395a97",
   "metadata": {},
   "outputs": [
    {
     "data": {
      "text/plain": [
       "array([[[1, 0, 0],\n",
       "        [1, 0, 0],\n",
       "        [1, 0, 0],\n",
       "        [1, 0, 0],\n",
       "        [1, 0, 0],\n",
       "        [1, 0, 0],\n",
       "        [1, 0, 0],\n",
       "        [1, 0, 0],\n",
       "        [1, 0, 0]]], dtype=uint8)"
      ]
     },
     "execution_count": 2,
     "metadata": {},
     "output_type": "execute_result"
    }
   ],
   "source": [
    "img[:,:,[0]] = 1\n",
    "img"
   ]
  },
  {
   "cell_type": "markdown",
   "id": "3dd5d1ca",
   "metadata": {},
   "source": [
    "Achtung, der Slice hat die Shape des arrays"
   ]
  },
  {
   "cell_type": "code",
   "execution_count": 3,
   "id": "ed14dbea",
   "metadata": {},
   "outputs": [
    {
     "data": {
      "text/plain": [
       "array([[[1],\n",
       "        [1],\n",
       "        [1],\n",
       "        [1],\n",
       "        [1],\n",
       "        [1],\n",
       "        [1],\n",
       "        [1],\n",
       "        [1]]], dtype=uint8)"
      ]
     },
     "execution_count": 3,
     "metadata": {},
     "output_type": "execute_result"
    }
   ],
   "source": [
    "img[:,:,[0]]"
   ]
  },
  {
   "cell_type": "markdown",
   "id": "fe7207a7",
   "metadata": {},
   "source": [
    "Entsprechend muss die Arrayzuordnung im selben shape sein"
   ]
  },
  {
   "cell_type": "code",
   "execution_count": 4,
   "id": "4f3fbe34",
   "metadata": {},
   "outputs": [
    {
     "data": {
      "text/plain": [
       "array([[[ 0,  0,  0],\n",
       "        [10,  0,  0],\n",
       "        [20,  0,  0],\n",
       "        [30,  0,  0],\n",
       "        [40,  0,  0],\n",
       "        [50,  0,  0],\n",
       "        [60,  0,  0],\n",
       "        [70,  0,  0],\n",
       "        [80,  0,  0]]], dtype=uint8)"
      ]
     },
     "execution_count": 4,
     "metadata": {},
     "output_type": "execute_result"
    }
   ],
   "source": [
    "img[:,:,[0]] = np.arange(0,90,10).reshape(1,9,1)\n",
    "img"
   ]
  },
  {
   "cell_type": "markdown",
   "id": "12441665",
   "metadata": {},
   "source": [
    "## contour rausholen (mit mask) "
   ]
  },
  {
   "cell_type": "code",
   "execution_count": 5,
   "id": "db72617a",
   "metadata": {},
   "outputs": [
    {
     "data": {
      "text/plain": [
       "array([[  0,   0, 255, 255, 255,   0,   0,   0,   0]], dtype=uint8)"
      ]
     },
     "execution_count": 5,
     "metadata": {},
     "output_type": "execute_result"
    }
   ],
   "source": [
    "mask = np.zeros(img.shape[:2], dtype=\"uint8\")\n",
    "cv.circle(mask, (3, 0),1,255,-1)\n",
    "mask        "
   ]
  },
  {
   "cell_type": "code",
   "execution_count": 6,
   "id": "3604a035",
   "metadata": {},
   "outputs": [
    {
     "data": {
      "text/plain": [
       "array([[[ 0,  0,  0],\n",
       "        [ 0,  0,  0],\n",
       "        [20,  0,  0],\n",
       "        [30,  0,  0],\n",
       "        [40,  0,  0],\n",
       "        [ 0,  0,  0],\n",
       "        [ 0,  0,  0],\n",
       "        [ 0,  0,  0],\n",
       "        [ 0,  0,  0]]], dtype=uint8)"
      ]
     },
     "execution_count": 6,
     "metadata": {},
     "output_type": "execute_result"
    }
   ],
   "source": [
    "masked = cv.bitwise_and(img, img, mask=mask)\n",
    "masked"
   ]
  },
  {
   "cell_type": "code",
   "execution_count": 7,
   "id": "8ad75e15",
   "metadata": {},
   "outputs": [
    {
     "data": {
      "text/plain": [
       "10.0"
      ]
     },
     "execution_count": 7,
     "metadata": {},
     "output_type": "execute_result"
    }
   ],
   "source": [
    "np.average(masked[:,:,0])"
   ]
  },
  {
   "cell_type": "markdown",
   "id": "c9985697",
   "metadata": {},
   "source": [
    "die (gemaskten) nullen stören den Schnitt"
   ]
  },
  {
   "cell_type": "markdown",
   "id": "b364fcc2",
   "metadata": {},
   "source": [
    "## mit numpy maskieren"
   ]
  },
  {
   "cell_type": "code",
   "execution_count": 8,
   "id": "b2704084",
   "metadata": {},
   "outputs": [
    {
     "data": {
      "text/plain": [
       "masked_array(data=[[--, --, 20, 30, 40, --, --, --, --]],\n",
       "             mask=[[ True,  True, False, False, False,  True,  True,\n",
       "                     True,  True]],\n",
       "       fill_value=999999,\n",
       "            dtype=uint8)"
      ]
     },
     "execution_count": 8,
     "metadata": {},
     "output_type": "execute_result"
    }
   ],
   "source": [
    "nm = np.ma.masked_where(mask == 0, img[:,:,0])\n",
    "nm"
   ]
  },
  {
   "cell_type": "code",
   "execution_count": 9,
   "id": "c0f633cf",
   "metadata": {},
   "outputs": [
    {
     "data": {
      "text/plain": [
       "30.0"
      ]
     },
     "execution_count": 9,
     "metadata": {},
     "output_type": "execute_result"
    }
   ],
   "source": [
    "np.average(nm)"
   ]
  },
  {
   "cell_type": "code",
   "execution_count": 10,
   "id": "6f412a9f",
   "metadata": {},
   "outputs": [
    {
     "data": {
      "text/plain": [
       "30.0"
      ]
     },
     "execution_count": 10,
     "metadata": {},
     "output_type": "execute_result"
    }
   ],
   "source": [
    "np.mean(nm)"
   ]
  },
  {
   "cell_type": "code",
   "execution_count": 14,
   "id": "982f8e2c",
   "metadata": {},
   "outputs": [
    {
     "data": {
      "text/plain": [
       "8.16496580927726"
      ]
     },
     "execution_count": 14,
     "metadata": {},
     "output_type": "execute_result"
    }
   ],
   "source": [
    "np.sqrt(np.var(nm))"
   ]
  },
  {
   "cell_type": "code",
   "execution_count": null,
   "id": "86afc37b",
   "metadata": {},
   "outputs": [],
   "source": []
  }
 ],
 "metadata": {
  "interpreter": {
   "hash": "2db524e06e9f5f4ffedc911c917cb75e12dbc923643829bf417064a77eb14d37"
  },
  "kernelspec": {
   "display_name": "Python 3 (ipykernel)",
   "language": "python",
   "name": "python3"
  },
  "language_info": {
   "codemirror_mode": {
    "name": "ipython",
    "version": 3
   },
   "file_extension": ".py",
   "mimetype": "text/x-python",
   "name": "python",
   "nbconvert_exporter": "python",
   "pygments_lexer": "ipython3",
   "version": "3.8.3"
  }
 },
 "nbformat": 4,
 "nbformat_minor": 5
}
