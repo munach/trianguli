{
 "cells": [
  {
   "cell_type": "markdown",
   "id": "090f8fcb",
   "metadata": {},
   "source": [
    "Distribute points on array"
   ]
  },
  {
   "cell_type": "code",
   "execution_count": 10,
   "id": "c9cb9845",
   "metadata": {},
   "outputs": [
    {
     "data": {
      "text/plain": [
       "array([ 0,  3,  6, 10], dtype=uint16)"
      ]
     },
     "execution_count": 10,
     "metadata": {},
     "output_type": "execute_result"
    }
   ],
   "source": [
    "import numpy as np\n",
    "x = 10    # size of diagramm\n",
    "y = 20\n",
    "d = 4     # number of points in x direction\n",
    "\n",
    "a = np.linspace(0, x, num=d, dtype=np.uint16)\n",
    "a"
   ]
  },
  {
   "cell_type": "code",
   "execution_count": 2,
   "id": "b89eef30",
   "metadata": {},
   "outputs": [
    {
     "data": {
      "text/plain": [
       "array([ 0,  2,  5,  8, 11, 14, 17, 20], dtype=uint16)"
      ]
     },
     "execution_count": 2,
     "metadata": {},
     "output_type": "execute_result"
    }
   ],
   "source": [
    "b = np.linspace(0, y, num=int(d*y / x), dtype=np.uint16)\n",
    "b"
   ]
  },
  {
   "cell_type": "code",
   "execution_count": 11,
   "id": "4a931a40",
   "metadata": {},
   "outputs": [
    {
     "data": {
      "text/plain": [
       "array([ 0,  0,  0,  0,  0,  0,  0,  0,  3,  3,  3,  3,  3,  3,  3,  3,  6,\n",
       "        6,  6,  6,  6,  6,  6,  6, 10, 10, 10, 10, 10, 10, 10, 10],\n",
       "      dtype=uint16)"
      ]
     },
     "execution_count": 11,
     "metadata": {},
     "output_type": "execute_result"
    }
   ],
   "source": [
    "np.full((8,4), a).T.flatten()"
   ]
  },
  {
   "cell_type": "code",
   "execution_count": 4,
   "id": "9d225794",
   "metadata": {},
   "outputs": [
    {
     "data": {
      "text/plain": [
       "array([ 0,  2,  5,  8, 11, 14, 17, 20,  0,  2,  5,  8, 11, 14, 17, 20,  0,\n",
       "        2,  5,  8, 11, 14, 17, 20,  0,  2,  5,  8, 11, 14, 17, 20],\n",
       "      dtype=uint16)"
      ]
     },
     "execution_count": 4,
     "metadata": {},
     "output_type": "execute_result"
    }
   ],
   "source": [
    "np.full((4,8), b).flatten()"
   ]
  },
  {
   "cell_type": "code",
   "execution_count": 16,
   "id": "3b75f6bf",
   "metadata": {},
   "outputs": [
    {
     "name": "stdout",
     "output_type": "stream",
     "text": [
      "[0 0]\n",
      "[0 2]\n",
      "[0 5]\n",
      "[0 8]\n",
      "[ 0 11]\n",
      "[ 0 14]\n",
      "[ 0 17]\n",
      "[ 0 20]\n",
      "[3 0]\n",
      "[3 2]\n",
      "[3 5]\n",
      "[3 8]\n",
      "[ 3 11]\n",
      "[ 3 14]\n",
      "[ 3 17]\n",
      "[ 3 20]\n",
      "[6 0]\n",
      "[6 2]\n",
      "[6 5]\n",
      "[6 8]\n",
      "[ 6 11]\n",
      "[ 6 14]\n",
      "[ 6 17]\n",
      "[ 6 20]\n",
      "[10  0]\n",
      "[10  2]\n",
      "[10  5]\n",
      "[10  8]\n",
      "[10 11]\n",
      "[10 14]\n",
      "[10 17]\n",
      "[10 20]\n"
     ]
    }
   ],
   "source": [
    "l = np.column_stack((np.full((8,4), a).T.flatten(), np.full((4,8), b).flatten()))\n",
    "for i in l: print(i)"
   ]
  },
  {
   "cell_type": "code",
   "execution_count": 6,
   "id": "d846111e",
   "metadata": {},
   "outputs": [],
   "source": [
    "a = np.array([1,2,3])\n",
    "aa = np.array([1,1,1,2,2,2,3,3,3])\n",
    "bb = np.array([1,2,3,1,2,3,1,2,3])\n"
   ]
  },
  {
   "cell_type": "code",
   "execution_count": 19,
   "id": "2ed87ef9",
   "metadata": {},
   "outputs": [
    {
     "data": {
      "text/plain": [
       "array([[0, 0, 0],\n",
       "       [3, 4, 5],\n",
       "       [0, 0, 0]], dtype=uint16)"
      ]
     },
     "execution_count": 19,
     "metadata": {},
     "output_type": "execute_result"
    }
   ],
   "source": [
    "a = np.zeros((3,3), dtype=np.uint16)\n",
    "a\n",
    "a[1]=[3,4,5]\n",
    "a"
   ]
  },
  {
   "cell_type": "code",
   "execution_count": null,
   "id": "eb889502",
   "metadata": {},
   "outputs": [],
   "source": []
  }
 ],
 "metadata": {
  "kernelspec": {
   "display_name": "Python 3 (ipykernel)",
   "language": "python",
   "name": "python3"
  },
  "language_info": {
   "codemirror_mode": {
    "name": "ipython",
    "version": 3
   },
   "file_extension": ".py",
   "mimetype": "text/x-python",
   "name": "python",
   "nbconvert_exporter": "python",
   "pygments_lexer": "ipython3",
   "version": "3.8.3"
  }
 },
 "nbformat": 4,
 "nbformat_minor": 5
}
